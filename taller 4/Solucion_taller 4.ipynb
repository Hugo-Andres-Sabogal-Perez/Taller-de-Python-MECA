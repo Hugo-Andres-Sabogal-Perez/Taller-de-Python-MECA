{
 "cells": [
  {
   "cell_type": "markdown",
   "metadata": {},
   "source": [
    "# Tutorial de Python Docx"
   ]
  },
  {
   "cell_type": "code",
   "execution_count": 1,
   "metadata": {},
   "outputs": [],
   "source": [
    "from docx import Document\n",
    "from docx.shared import Pt\n",
    "from docx.oxml.ns import qn\n",
    "from docx.oxml.shared import OxmlElement\n",
    "from docx.enum.table import WD_ALIGN_VERTICAL\n",
    "from docx.shared import Pt\n",
    "from docx.shared import Inches\n",
    "from docx.enum.text import WD_ALIGN_PARAGRAPH\n",
    "\n",
    "from datetime import datetime\n",
    "import os"
   ]
  },
  {
   "cell_type": "code",
   "execution_count": 2,
   "metadata": {},
   "outputs": [],
   "source": [
    "import io\n",
    "import fitz \n",
    "import matplotlib.pyplot as plt"
   ]
  },
  {
   "cell_type": "code",
   "execution_count": 3,
   "metadata": {},
   "outputs": [],
   "source": [
    "os.chdir(r'C:\\Users\\hugos\\OneDrive - Universidad de los andes\\MECA\\Semestre 1\\Taller Python\\Taller-de-Python-MECA\\taller 4')"
   ]
  },
  {
   "cell_type": "code",
   "execution_count": 4,
   "metadata": {},
   "outputs": [],
   "source": [
    "fecha_hoy = str(datetime.now().strftime(\"%d-%m-%Y\"))\n"
   ]
  },
  {
   "cell_type": "code",
   "execution_count": null,
   "metadata": {},
   "outputs": [],
   "source": [
    "doc = Document()\n",
    "\n",
    "style = doc.styles['Normal']\n",
    "font = style.font\n",
    "font.name = 'aptos'\n",
    "font.size = Pt(11)\n",
    "\n",
    "#Seccion principal\n",
    "section = doc.sections[0]\n",
    "\n",
    "### Margenes\n",
    "section.left_margin = Inches(0.3)  # Margen izquierdo (1 pulgada)\n",
    "section.right_margin = Inches(0.3)  # Margen derecho\n",
    "section.top_margin = Inches(0.5)  # Margen superior\n",
    "section.bottom_margin = Inches(0.5)  # Margen inferior\n",
    "\n",
    "\n",
    "p1 = doc.add_paragraph()\n",
    "\n",
    "espacio = 90 * \" \"\n",
    "\n",
    "# Añadir texto en negrita\n",
    "boldp1 = p1.add_run(\"Ficha técnica: Portafolio de acciones\" + espacio + 'Fecha ' + fecha_hoy)\n",
    "boldp1.bold = True\n",
    "\n",
    "# Crear un elemento XML para el fondo\n",
    "shd = OxmlElement('w:shd')\n",
    "\n",
    "# Agregar atributos al elemento\n",
    "shd.set(qn('w:val'), 'clear')\n",
    "shd.set(qn('w:color'), 'auto')\n",
    "shd.set(qn('w:fill'), '000000')  # Fondo negro\n",
    "\n",
    "# Asegurar que el elemento de estilo de párrafo exista\n",
    "p1.paragraph_format.element.get_or_add_pPr()\n",
    "\n",
    "# Añadir el elemento de sombreado\n",
    "p1.paragraph_format.element.pPr.append(shd)\n",
    "\n",
    "\n",
    "### Parrafo 2\n",
    "p2 = doc.add_paragraph()\n",
    "boldp2 = p2.add_run('Retorno Acumulado del portafolio frente al Benchmark \\n')\n",
    "boldp2.bold = True\n",
    "\n",
    "boldp2_2 = p2.add_run('Benchamark:')\n",
    "boldp2_2.bold = True\n",
    "norm2 = p2.add_run(\" S&P 500\")\n",
    "\n",
    "#Tabla\n",
    "# Crear una tabla con 4 columnas y 4 filas\n",
    "table = doc.add_table(rows=4, cols=5)\n",
    "\n",
    "# Estilo básico de tabla\n",
    "table.style = 'Table Grid'\n",
    "\n",
    "header_cells = table.rows[0].cells\n",
    "\n",
    "\n",
    "datos_tabla = [['', 'Acumulado', 'Ultimo mes', 'Ultimo año', 'Ultimos 5 años'],\n",
    "               ['Retorno Anualizado', '{{r_anual_acum}}', '{{r_anual_1m}}', '{{r_anual_1a}}', '{{r_anual_5a}}'],\n",
    "               ['Volatilidad Anualizada', \"{{vol_anual_acum}}\", \"{{vol_anual_1m}}\", \"{{vol_anual_1A}}\", \"{{vol_anual_5A}}\"],\n",
    "               ['Retorno del Benchmark', '{{rb_anual_acum}}', '{{rb_anual_1m}}', '{{rb_anual_1a}}', '{{rb_anual_5a}}']\n",
    "               ]\n",
    "\n",
    "\n",
    "# Asignar las listas a las filas de la tabla\n",
    "for i, fila in enumerate(table.rows):\n",
    "    for j, celda in enumerate(fila.cells):\n",
    "        celda.text = datos_tabla[i][j]\n",
    "\n",
    "# Alinear celdas y ajustar tamaño de texto\n",
    "for row in table.rows:\n",
    "    for cell in row.cells:\n",
    "        # Alinear texto verticalmente al centro\n",
    "        cell.vertical_alignment = WD_ALIGN_VERTICAL.CENTER\n",
    "\n",
    "        # Cambiar tamaño del texto\n",
    "        for paragraph in cell.paragraphs:\n",
    "            paragraph.style.font.size = Pt(10)\n",
    "\n",
    "\n",
    "table2 = doc.add_table(rows=1, cols=2)\n",
    "\n",
    "# Acceder a las celdas de la tabla\n",
    "cell_1 = table2.cell(0, 0)\n",
    "cell_2 = table2.cell(0, 1)\n",
    "\n",
    "# Definir el contenido para cada columna\n",
    "\n",
    "cell1_paragraph = cell_1.paragraphs[0]\n",
    "cell1_bold = cell1_paragraph.add_run(' \\n  \\nDescripción de la estrategía: ') \n",
    "cell1_bold.bold = True\n",
    "cell1_normal = cell1_paragraph.add_run('El portafolio se encuentra compuesto en su mayoría por renta variable, en conjunto con instrumentos para seguir el comportamiento de otras materias primas. El portafolio es de alto riesgo, al incluir en su mayoría instrumentos de renta variable. El portafolio posee una exposición a múltiples monedas, al igual que posee activos de renta variable de múltiples países y de múltiples sectores.')\n",
    "\n",
    "cell1_paragraph.alignment = WD_ALIGN_PARAGRAPH.JUSTIFY\n",
    "\n",
    "\n",
    "#Parrafo 2\n",
    "cell1_paragraph2 = cell_1.add_paragraph()\n",
    "cell1_bold2 = cell1_paragraph2.add_run('Sharpe ratio:{{sharpe}} \\nNumero de activos: {{n_activos}}  \\nVaR(95% 1-año): {{VaR}} \\nTasa de captura de PyG: {{PyG}} ')\n",
    "cell1_bold2.bold = True"
   ]
  },
  {
   "cell_type": "markdown",
   "metadata": {},
   "source": [
    "# Cargar imagenes de internet"
   ]
  },
  {
   "cell_type": "code",
   "execution_count": 6,
   "metadata": {},
   "outputs": [],
   "source": [
    "import requests\n",
    "from io import BytesIO\n",
    "\n",
    "image1_url = \"https://raw.githubusercontent.com/Hugo-Andres-Sabogal-Perez/Taller-de-Python-MECA/main/taller%204/imagenes%20plantilla/EVOLUCI%C3%93N.png\"\n",
    "response = requests.get(image1_url)\n",
    "image_stream1 = BytesIO(response.content)\n",
    "\n",
    "\n",
    "image2_url = \"https://raw.githubusercontent.com/Hugo-Andres-Sabogal-Perez/Taller-de-Python-MECA/main/taller%204/imagenes%20plantilla/Moneda.png\"\n",
    "response2 = requests.get(image2_url)\n",
    "image_stream2 = BytesIO(response2.content)\n",
    "\n",
    "\n",
    "image3_url = \"https://raw.githubusercontent.com/Hugo-Andres-Sabogal-Perez/Taller-de-Python-MECA/main/taller%204/imagenes%20plantilla/Región.png\"\n",
    "response4 = requests.get(image3_url)\n",
    "image_stream3 = BytesIO(response2.content)\n",
    "\n",
    "\n",
    "image3_url = \"https://raw.githubusercontent.com/Hugo-Andres-Sabogal-Perez/Taller-de-Python-MECA/main/taller%204/imagenes%20plantilla/Sector.png\"\n",
    "response4 = requests.get(image3_url)\n",
    "image_stream4 = BytesIO(response2.content)\n"
   ]
  },
  {
   "cell_type": "code",
   "execution_count": 7,
   "metadata": {},
   "outputs": [
    {
     "data": {
      "text/plain": [
       "<_io.BytesIO at 0x1c3d54e4270>"
      ]
     },
     "execution_count": 7,
     "metadata": {},
     "output_type": "execute_result"
    }
   ],
   "source": [
    "image_stream1"
   ]
  },
  {
   "cell_type": "code",
   "execution_count": 8,
   "metadata": {},
   "outputs": [
    {
     "data": {
      "text/plain": [
       "<docx.shape.InlineShape at 0x1c3d2309ac0>"
      ]
     },
     "execution_count": 8,
     "metadata": {},
     "output_type": "execute_result"
    }
   ],
   "source": [
    "    paragraph_in_cell2 = cell_2.add_paragraph()\n",
    "    run_in_cell2 = paragraph_in_cell2.add_run()\n",
    "    run_in_cell2.add_picture(image_stream1, width=Inches(4))"
   ]
  },
  {
   "cell_type": "code",
   "execution_count": 9,
   "metadata": {},
   "outputs": [
    {
     "data": {
      "text/plain": [
       "<docx.shape.InlineShape at 0x1c3d51ceff0>"
      ]
     },
     "execution_count": 9,
     "metadata": {},
     "output_type": "execute_result"
    }
   ],
   "source": [
    "    paragraph2_in_cell2 = cell_2.add_paragraph()\n",
    "    run2_in_cell2 = paragraph2_in_cell2.add_run()\n",
    "    run2_in_cell2.add_picture(image_stream2, width=Inches(4))"
   ]
  },
  {
   "cell_type": "code",
   "execution_count": 10,
   "metadata": {},
   "outputs": [],
   "source": [
    "doc.add_page_break()\n",
    "\n",
    "table2 = doc.add_table(rows=1, cols=2)\n",
    "\n",
    "# Acceder a las celdas de la tabla\n",
    "cell_1_2 = table2.cell(0, 0)\n",
    "cell_2_2 = table2.cell(0, 1)"
   ]
  },
  {
   "cell_type": "code",
   "execution_count": 11,
   "metadata": {},
   "outputs": [
    {
     "data": {
      "text/plain": [
       "<docx.shape.InlineShape at 0x1c3d52dd940>"
      ]
     },
     "execution_count": 11,
     "metadata": {},
     "output_type": "execute_result"
    }
   ],
   "source": [
    "    paragraph_in_cell1_2 = cell_1_2.add_paragraph()\n",
    "    run2_in_cell1_2 = paragraph_in_cell1_2 .add_run()\n",
    "    run2_in_cell1_2.add_picture(image_stream3, width=Inches(4))"
   ]
  },
  {
   "cell_type": "code",
   "execution_count": 12,
   "metadata": {},
   "outputs": [
    {
     "data": {
      "text/plain": [
       "<docx.shape.InlineShape at 0x1c3d54253d0>"
      ]
     },
     "execution_count": 12,
     "metadata": {},
     "output_type": "execute_result"
    }
   ],
   "source": [
    "    paragraph_in_cell2_2 = cell_2_2.add_paragraph()\n",
    "    run2_in_cell_2_2 = paragraph_in_cell2_2.add_run()\n",
    "    run2_in_cell_2_2.add_picture(image_stream4, width=Inches(4))"
   ]
  },
  {
   "cell_type": "code",
   "execution_count": 13,
   "metadata": {},
   "outputs": [],
   "source": [
    "### Tabla 4\n",
    "\n",
    "tabla4 = doc.add_table(rows=8, cols=2, style='Table Grid')\n",
    "\n",
    "tabla4.alignment = 1   # Tabla en el centro del documento.\n",
    "\n",
    "datos = [\n",
    "    ['Activo', 'Participación'],\n",
    "    ['{{Activo 1}}', \"{{%_1}}\"],\n",
    "    ['{{Activo 2}}', \"{{%_1}}\"],\n",
    "    ['{{Activo 3}}', \"{{%_1}}\"],\n",
    "    ['{{Activo 4}}', \"{{%_1}}\"],\n",
    "    ['{{Activo 5}}', \"{{%_1}}\"],\n",
    "    ['{{Activo 6}}', \"{{%_1}}\"],\n",
    "    ['{{Activo 7}}', \"{{%_1}}\"]\n",
    "\n",
    "]\n",
    "# Asignar las listas a las filas de la tabla\n",
    "for i, fila in enumerate(tabla4.rows):\n",
    "    for j, celda in enumerate(fila.cells):\n",
    "        celda.text = datos[i][j]\n",
    "\n",
    "for row in tabla4.rows:\n",
    "    for cell in row.cells:\n",
    "        cell.width = 1000000  # Cambia este valor para ajustar el ancho\n",
    "\n",
    "# Agregar sombreado a la primera fila (encabezados)\n",
    "def agregar_sombreado(fila):\n",
    "    for celda in fila.cells:\n",
    "        # Acceder al XML de la celda\n",
    "        celda_xml = celda._element\n",
    "        # Acceder o crear las propiedades de la celda (w:tcPr)\n",
    "        tc_pr = celda_xml.find(qn('w:tcPr'))\n",
    "        if tc_pr is None:\n",
    "            tc_pr = OxmlElement('w:tcPr')\n",
    "            celda_xml.insert(0, tc_pr)\n",
    "        # Crear un elemento de sombreado\n",
    "        sombreado = OxmlElement('w:shd')\n",
    "        sombreado.set(qn('w:fill'), '3498DB')  # Código de color hexadecimal (gris claro)\n",
    "        tc_pr.append(sombreado)\n",
    "\n",
    "# Aplicar sombreado a la primera fila\n",
    "agregar_sombreado(tabla4.rows[0])\n",
    "\n"
   ]
  },
  {
   "cell_type": "code",
   "execution_count": 15,
   "metadata": {},
   "outputs": [],
   "source": [
    "# Guardar el documento\n",
    "doc.save('d.docx')"
   ]
  },
  {
   "cell_type": "code",
   "execution_count": 16,
   "metadata": {},
   "outputs": [],
   "source": [
    "os.startfile(\"d.docx\")"
   ]
  }
 ],
 "metadata": {
  "kernelspec": {
   "display_name": "base",
   "language": "python",
   "name": "python3"
  },
  "language_info": {
   "codemirror_mode": {
    "name": "ipython",
    "version": 3
   },
   "file_extension": ".py",
   "mimetype": "text/x-python",
   "name": "python",
   "nbconvert_exporter": "python",
   "pygments_lexer": "ipython3",
   "version": "3.12.4"
  }
 },
 "nbformat": 4,
 "nbformat_minor": 2
}

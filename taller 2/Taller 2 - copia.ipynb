{
 "cells": [
  {
   "cell_type": "markdown",
   "metadata": {},
   "source": [
    "# Taller 2\n",
    "\n",
    "### Estudiantes\n",
    "\n",
    "Hugo Andres Sabogal Perez 202013538\n",
    "\n",
    "\n",
    "Natalia plata 202013152\n",
    "\n",
    "## Instrucciones generales\n",
    "\n",
    "1. Para desarrollar el *cuaderno* primero debe descargarlo.\n",
    "\n",
    "2. Para responder cada inciso deberá utilizar el espacio debidamente especificado.\n",
    "\n",
    "3. La actividad se considera entregada para calificación cuando el *cuaderno* de jupyter notebook con extensión `.ipynb` se sube al espacio correspondiente en el aula de Bloque Neón. Ningún material adicional será revisado.\n",
    "\n",
    "4. La solución del taller debe ser realizado en las mismas **parejas** con las que realizó el Taller 1. No se aceptaran talleres de individuales. En caso de no tener un equipo asignado, informar al equipo docente.\n",
    "\n",
    "5. El cuaderno debe poderse correr sin errores al momento de evaluar.\n",
    "\n",
    "## Criterios de evaluación.\n",
    "Estos pueden ser consultados con más detalle en la rúbrica presente en Bloque Neón. A grandes rasgos, en cada uno de los incisos se evaluará su solución y se espera que sea igual a la estipulada en el enunciado. Adicionalmente, su calificación podrá ser penalizada por los siguientes items:\n",
    "\n",
    "- Falta de seguimiento de las instrucciones.\n",
    "- Código no-human readable. \n",
    "- Falta de una debida explicación y comentarios al código.\n",
    "\n",
    "A continuación se listan los puntajes máximos para cada punto:\n",
    "| **Punto** | **Puntaje Máximo** |\n",
    "|:---------:|:------------------:|\n",
    "|    1.1    |         1.0        |\n",
    "|    1.2    |         1.5        |\n",
    "|     2     |         2.5        |\n",
    "\n",
    "Cada uno de los subnumerales del punto 2 vale lo mismo.\n",
    "\n",
    "Este Taller evalúa los tópicos de la semana 4 a la 8 y tiene el valor de un 20% en su calificación final."
   ]
  },
  {
   "cell_type": "markdown",
   "metadata": {},
   "source": [
    "## Punto 1\n",
    "Su trabajo es resolver el siguiente rompecabezas.\n",
    "\n",
    "<center>\n",
    "<img src=\"https://cdn.kastatic.org/ka-perseus-images/5b5fb2670c9a185b2666637461e40c805fcc9ea5.png\">\n",
    "</center>\n",
    "\n",
    "Usted tiene tres postes y un número de discos $N$ de diferentes tamaños que pueden deslizarse en cualquier poste. El rompecabezas comienza con los discos apilados de manera cónica en un poste, con el disco más grande en la parte inferior y el más pequeño en la parte superior. \n",
    "\n",
    "El objetivo del juego es mover toda la pila a otro poste, siguiendo estas simples reglas:\n",
    "\n",
    "1. Solo se puede mover un disco a la vez.\n",
    "2. Cada movimiento consiste en tomar el disco superior de una de las pilas y colocarlo en la parte superior de otra pila.\n",
    "3. No se puede colocar un disco más grande encima de un disco más pequeño.\n",
    "\n",
    "En internet puede encontrar el juego de forma interactiva [aquí](https://www.mathplayground.com/logic_tower_of_hanoi.html)"
   ]
  },
  {
   "cell_type": "markdown",
   "metadata": {},
   "source": [
    "> Para la solución de este ejercicio, vamos a hacer uso de las funciones del archivo `utils.py` de esta misma carpeta. A continuación se le mostrará como funciona el código que hará su trabajo más sencillo."
   ]
  },
  {
   "cell_type": "code",
   "execution_count": 1,
   "metadata": {},
   "outputs": [
    {
     "data": {
      "text/plain": [
       "{'A': [3, 2, 1], 'B': [], 'C': []}"
      ]
     },
     "execution_count": 1,
     "metadata": {},
     "output_type": "execute_result"
    }
   ],
   "source": [
    "# No es necesario modificar este código\n",
    "\n",
    "# Vamos a importar unas funciones auxiliares que se encuentran en utils.py y van a ayudar a solucionar el taller \n",
    "from utils import movimiento, dibujar_torres\n",
    "\n",
    "# El disco 3 es el más grande y la base de la torre. El disco dos es el mediano y el 1 está en el tope de la torre.\n",
    "N = 3\n",
    "\n",
    "posiciones_iniciales = {\n",
    "    \"A\": [3, 2, 1],\n",
    "    \"B\": [],\n",
    "    \"C\": []\n",
    "}\n",
    "\n",
    "posiciones_iniciales"
   ]
  },
  {
   "cell_type": "code",
   "execution_count": 2,
   "metadata": {},
   "outputs": [
    {
     "data": {
      "image/png": "[encoded data removed]",
      "text/plain": [
       "<Figure size 800x200 with 1 Axes>"
      ]
     },
     "metadata": {},
     "output_type": "display_data"
    }
   ],
   "source": [
    "# Dibujar las posiciones iniciales\n",
    "dibujar_torres(posiciones_iniciales, titulo = 'Posiciones Iniciales')"
   ]
  },
  {
   "cell_type": "code",
   "execution_count": 3,
   "metadata": {},
   "outputs": [
    {
     "data": {
      "text/plain": [
       "{'A': [3, 2], 'B': [], 'C': [1]}"
      ]
     },
     "execution_count": 3,
     "metadata": {},
     "output_type": "execute_result"
    }
   ],
   "source": [
    "# Utilizamos la función movimiento para mover la ficha 1 del poste A hacia C\n",
    "posiciones_finales = movimiento(posiciones_iniciales, ('A', 'C', 1))\n",
    "posiciones_finales"
   ]
  },
  {
   "cell_type": "code",
   "execution_count": 4,
   "metadata": {},
   "outputs": [
    {
     "data": {
      "image/png": "[encoded data removed]",
      "text/plain": [
       "<Figure size 800x200 with 1 Axes>"
      ]
     },
     "metadata": {},
     "output_type": "display_data"
    }
   ],
   "source": [
    "# Dibujar las posiciones finales (asegúrate de tener posiciones_finales actualizadas)\n",
    "dibujar_torres(posiciones_finales, titulo = 'Posiciones Finales')"
   ]
  },
  {
   "cell_type": "markdown",
   "metadata": {},
   "source": [
    "Note que en el ejemplo anterior se utilizaron dos funciones:\n",
    "\n",
    "- `movimiento(posiciones_iniciales, movimiento)`: Esta función recibe dos argumentos: \n",
    "    (i) `posiciones_iniciales` que es un diccionario donde se especifica para cada poste, la lista de discos apilada en él. Cada lista de discos va desde el objeto que está en la base hasta el objeto que va en la cima.\n",
    "    (ii) `movimiento` que es una tupla de tres elementos `(poste_inicial, poste_final, disco)`. Esta tupla específica que `disco` se va a remover del `poste_inicial` y en qué `poste_final` se va a ubicar.\n",
    "- `dibujar_torres(posiciones, titulo)`: Esta función gráfica el estado del juego para unas `posiciones` dadas en el formato de tupla descrito anteriormente. Además se le puede poner un título al gráfico."
   ]
  },
  {
   "cell_type": "code",
   "execution_count": 5,
   "metadata": {},
   "outputs": [
    {
     "ename": "MovimientoInvalidoError",
     "evalue": "Movimiento invalido. El disco 2 no está en la cima del poste A.",
     "output_type": "error",
     "traceback": [
      "\u001b[1;31m---------------------------------------------------------------------------\u001b[0m",
      "\u001b[1;31mMovimientoInvalidoError\u001b[0m                   Traceback (most recent call last)",
      "Cell \u001b[1;32mIn[5], line 9\u001b[0m\n\u001b[0;32m      2\u001b[0m posiciones_iniciales \u001b[38;5;241m=\u001b[39m {\n\u001b[0;32m      3\u001b[0m     \u001b[38;5;124m\"\u001b[39m\u001b[38;5;124mA\u001b[39m\u001b[38;5;124m\"\u001b[39m: [\u001b[38;5;241m3\u001b[39m, \u001b[38;5;241m2\u001b[39m, \u001b[38;5;241m1\u001b[39m],\n\u001b[0;32m      4\u001b[0m     \u001b[38;5;124m\"\u001b[39m\u001b[38;5;124mB\u001b[39m\u001b[38;5;124m\"\u001b[39m: [],\n\u001b[0;32m      5\u001b[0m     \u001b[38;5;124m\"\u001b[39m\u001b[38;5;124mC\u001b[39m\u001b[38;5;124m\"\u001b[39m: []\n\u001b[0;32m      6\u001b[0m }\n\u001b[0;32m      8\u001b[0m \u001b[38;5;66;03m# En este caso no puedo remover el disco 2 del poste A porque no es el disco de la cima.\u001b[39;00m\n\u001b[1;32m----> 9\u001b[0m \u001b[43mmovimiento\u001b[49m\u001b[43m(\u001b[49m\u001b[43mposiciones_iniciales\u001b[49m\u001b[43m,\u001b[49m\u001b[43m \u001b[49m\u001b[43m(\u001b[49m\u001b[38;5;124;43m'\u001b[39;49m\u001b[38;5;124;43mA\u001b[39;49m\u001b[38;5;124;43m'\u001b[39;49m\u001b[43m,\u001b[49m\u001b[43m \u001b[49m\u001b[38;5;124;43m'\u001b[39;49m\u001b[38;5;124;43mC\u001b[39;49m\u001b[38;5;124;43m'\u001b[39;49m\u001b[43m,\u001b[49m\u001b[43m \u001b[49m\u001b[38;5;241;43m2\u001b[39;49m\u001b[43m)\u001b[49m\u001b[43m)\u001b[49m\n",
      "File \u001b[1;32mc:\\Users\\Lucas\\OneDrive - Universidad de los Andes\\Complementarias\\Proyectos de analítica en Python\\Intro_Python\\Introducción al Análisis de Datos en Python\\Modulo 2. Pandas\\Taller 2\\utils.py:30\u001b[0m, in \u001b[0;36mmovimiento\u001b[1;34m(posiciones_iniciales, movimiento)\u001b[0m\n\u001b[0;32m     28\u001b[0m         \u001b[38;5;28;01mraise\u001b[39;00m MovimientoInvalidoError(\u001b[38;5;124mf\u001b[39m\u001b[38;5;124m\"\u001b[39m\u001b[38;5;124mMovimiento invalido. El disco \u001b[39m\u001b[38;5;132;01m{\u001b[39;00mdisco\u001b[38;5;132;01m}\u001b[39;00m\u001b[38;5;124m es más grande que el disco \u001b[39m\u001b[38;5;132;01m{\u001b[39;00mdisco_superior_final\u001b[38;5;132;01m}\u001b[39;00m\u001b[38;5;124m que está en la cima del poste \u001b[39m\u001b[38;5;132;01m{\u001b[39;00mposte_final\u001b[38;5;132;01m}\u001b[39;00m\u001b[38;5;124m.\u001b[39m\u001b[38;5;124m\"\u001b[39m)\n\u001b[0;32m     29\u001b[0m \u001b[38;5;28;01melse\u001b[39;00m:\n\u001b[1;32m---> 30\u001b[0m     \u001b[38;5;28;01mraise\u001b[39;00m MovimientoInvalidoError(\u001b[38;5;124mf\u001b[39m\u001b[38;5;124m\"\u001b[39m\u001b[38;5;124mMovimiento invalido. El disco \u001b[39m\u001b[38;5;132;01m{\u001b[39;00mdisco\u001b[38;5;132;01m}\u001b[39;00m\u001b[38;5;124m no está en la cima del poste \u001b[39m\u001b[38;5;132;01m{\u001b[39;00mposte_inicial\u001b[38;5;132;01m}\u001b[39;00m\u001b[38;5;124m.\u001b[39m\u001b[38;5;124m\"\u001b[39m)\n",
      "\u001b[1;31mMovimientoInvalidoError\u001b[0m: Movimiento invalido. El disco 2 no está en la cima del poste A."
     ]
    }
   ],
   "source": [
    "# Note que en caso de tratar de hacer un movimiento no permitido, la función arrojará un error y su debida explicación.\n",
    "posiciones_iniciales = {\n",
    "    \"A\": [3, 2, 1],\n",
    "    \"B\": [],\n",
    "    \"C\": []\n",
    "}\n",
    "\n",
    "# En este caso no puedo remover el disco 2 del poste A porque no es el disco de la cima.\n",
    "movimiento(posiciones_iniciales, ('A', 'C', 2))"
   ]
  },
  {
   "cell_type": "code",
   "execution_count": 14,
   "metadata": {},
   "outputs": [
    {
     "ename": "MovimientoInvalidoError",
     "evalue": "Movimiento invalido. El disco 2 es más grande que el disco 1 que está en la cima del poste C.",
     "output_type": "error",
     "traceback": [
      "\u001b[1;31m---------------------------------------------------------------------------\u001b[0m",
      "\u001b[1;31mMovimientoInvalidoError\u001b[0m                   Traceback (most recent call last)",
      "Cell \u001b[1;32mIn[14], line 3\u001b[0m\n\u001b[0;32m      1\u001b[0m \u001b[38;5;66;03m# Este otro error muestra que si tomamos el Disco 2, no lo podemos poner sobre el Disco 1\u001b[39;00m\n\u001b[0;32m      2\u001b[0m posiciones_iniciales \u001b[38;5;241m=\u001b[39m {\u001b[38;5;124m'\u001b[39m\u001b[38;5;124mA\u001b[39m\u001b[38;5;124m'\u001b[39m: [\u001b[38;5;241m3\u001b[39m, \u001b[38;5;241m2\u001b[39m], \u001b[38;5;124m'\u001b[39m\u001b[38;5;124mB\u001b[39m\u001b[38;5;124m'\u001b[39m: [], \u001b[38;5;124m'\u001b[39m\u001b[38;5;124mC\u001b[39m\u001b[38;5;124m'\u001b[39m: [\u001b[38;5;241m1\u001b[39m]} \n\u001b[1;32m----> 3\u001b[0m \u001b[43mmovimiento\u001b[49m\u001b[43m(\u001b[49m\u001b[43mposiciones_iniciales\u001b[49m\u001b[43m,\u001b[49m\u001b[43m \u001b[49m\u001b[43m(\u001b[49m\u001b[38;5;124;43m'\u001b[39;49m\u001b[38;5;124;43mA\u001b[39;49m\u001b[38;5;124;43m'\u001b[39;49m\u001b[43m,\u001b[49m\u001b[43m \u001b[49m\u001b[38;5;124;43m'\u001b[39;49m\u001b[38;5;124;43mC\u001b[39;49m\u001b[38;5;124;43m'\u001b[39;49m\u001b[43m,\u001b[49m\u001b[43m \u001b[49m\u001b[38;5;241;43m2\u001b[39;49m\u001b[43m)\u001b[49m\u001b[43m)\u001b[49m\n",
      "File \u001b[1;32mc:\\Users\\Lucas\\OneDrive - Universidad de los Andes\\Complementarias\\Proyectos de analítica en Python\\Intro_Python\\Introducción al Análisis de Datos en Python\\Modulo 2. Pandas\\Taller 2\\utils.py:28\u001b[0m, in \u001b[0;36mmovimiento\u001b[1;34m(posiciones_iniciales, movimiento)\u001b[0m\n\u001b[0;32m     26\u001b[0m         \u001b[38;5;28;01mreturn\u001b[39;00m posiciones_finales\n\u001b[0;32m     27\u001b[0m     \u001b[38;5;28;01melse\u001b[39;00m:\n\u001b[1;32m---> 28\u001b[0m         \u001b[38;5;28;01mraise\u001b[39;00m MovimientoInvalidoError(\u001b[38;5;124mf\u001b[39m\u001b[38;5;124m\"\u001b[39m\u001b[38;5;124mMovimiento invalido. El disco \u001b[39m\u001b[38;5;132;01m{\u001b[39;00mdisco\u001b[38;5;132;01m}\u001b[39;00m\u001b[38;5;124m es más grande que el disco \u001b[39m\u001b[38;5;132;01m{\u001b[39;00mdisco_superior_final\u001b[38;5;132;01m}\u001b[39;00m\u001b[38;5;124m que está en la cima del poste \u001b[39m\u001b[38;5;132;01m{\u001b[39;00mposte_final\u001b[38;5;132;01m}\u001b[39;00m\u001b[38;5;124m.\u001b[39m\u001b[38;5;124m\"\u001b[39m)\n\u001b[0;32m     29\u001b[0m \u001b[38;5;28;01melse\u001b[39;00m:\n\u001b[0;32m     30\u001b[0m     \u001b[38;5;28;01mraise\u001b[39;00m MovimientoInvalidoError(\u001b[38;5;124mf\u001b[39m\u001b[38;5;124m\"\u001b[39m\u001b[38;5;124mMovimiento invalido. El disco \u001b[39m\u001b[38;5;132;01m{\u001b[39;00mdisco\u001b[38;5;132;01m}\u001b[39;00m\u001b[38;5;124m no está en la cima del poste \u001b[39m\u001b[38;5;132;01m{\u001b[39;00mposte_inicial\u001b[38;5;132;01m}\u001b[39;00m\u001b[38;5;124m.\u001b[39m\u001b[38;5;124m\"\u001b[39m)\n",
      "\u001b[1;31mMovimientoInvalidoError\u001b[0m: Movimiento invalido. El disco 2 es más grande que el disco 1 que está en la cima del poste C."
     ]
    }
   ],
   "source": [
    "# Este otro error muestra que si tomamos el Disco 2, no lo podemos poner sobre el Disco 1\n",
    "posiciones_iniciales = {'A': [3, 2], 'B': [], 'C': [1]} \n",
    "movimiento(posiciones_iniciales, ('A', 'C', 2))"
   ]
  },
  {
   "cell_type": "markdown",
   "metadata": {},
   "source": [
    "Habiendo entendido este problema y las funciones que tiene para resolverlo, resuelva los siguientes dos puntos:"
   ]
  },
  {
   "cell_type": "markdown",
   "metadata": {},
   "source": [
    "### 1.1. Caso base.\n",
    "Suponga que $N = 3$. \n",
    "\n",
    "<center>\n",
    "<img src=\"https://media.geeksforgeeks.org/wp-content/uploads/tower-of-hanoi.png\">\n",
    "</center>"
   ]
  },
  {
   "cell_type": "markdown",
   "metadata": {},
   "source": [
    "Cree una secuencia de tuplas que digan la secuencia de movimientos que llevan la Torre del poste A al C cumpliendo con todas las reglas del enunciado.\n",
    "\n",
    "Las tuplas deben seguir el siguiente formato `(poste inicial, poste final, disco)`. Por ejemplo, llevar el disco 1 del poste A al C (tal como se muestra en la figura de arriba) sería `(\"A\", \"C\", 1)`.\n",
    "\n",
    "La siguiente función recibirá una lista de movimientos (tuplas) y ejecutará los movimientos. Esta lanzará un mensaje en caso de hacer algún movimiento no permitido.\n",
    "\n",
    "La respuesta esperada debe ser algo del siguiente estilo:\n",
    "\n",
    "```python\n",
    "respuesta = [(\"A\", \"C\", 1), (\"A\", \"B\", 2), ...]\n",
    "```"
   ]
  },
  {
   "cell_type": "code",
   "execution_count": 5,
   "metadata": {},
   "outputs": [],
   "source": [
    "posiciones_iniciales = {\n",
    "    \"A\": [3, 2, 1],\n",
    "    \"B\": [],\n",
    "    \"C\": []\n",
    "}"
   ]
  },
  {
   "cell_type": "code",
   "execution_count": 6,
   "metadata": {},
   "outputs": [],
   "source": [
    "# Complete esta línea correctamente\n",
    "respuesta = [('A', 'C', 1), ('A', 'B', 2), ('C', 'B', 1), ('A', 'C', 3), ('B', 'A', 1),('B','C', 2), ('A', 'C', 1)]"
   ]
  },
  {
   "cell_type": "code",
   "execution_count": 7,
   "metadata": {},
   "outputs": [
    {
     "data": {
      "image/png": "[encoded data removed]",
      "text/plain": [
       "<Figure size 800x200 with 1 Axes>"
      ]
     },
     "metadata": {},
     "output_type": "display_data"
    },
    {
     "data": {
      "image/png": "[encoded data removed]",
      "text/plain": [
       "<Figure size 800x200 with 1 Axes>"
      ]
     },
     "metadata": {},
     "output_type": "display_data"
    },
    {
     "data": {
      "image/png": "[encoded data removed]",
      "text/plain": [
       "<Figure size 800x200 with 1 Axes>"
      ]
     },
     "metadata": {},
     "output_type": "display_data"
    },
    {
     "data": {
      "image/png": "[encoded data removed]",
      "text/plain": [
       "<Figure size 800x200 with 1 Axes>"
      ]
     },
     "metadata": {},
     "output_type": "display_data"
    },
    {
     "data": {
      "image/png": "[encoded data removed]",
      "text/plain": [
       "<Figure size 800x200 with 1 Axes>"
      ]
     },
     "metadata": {},
     "output_type": "display_data"
    },
    {
     "data": {
      "image/png": "[encoded data removed]",
      "text/plain": [
       "<Figure size 800x200 with 1 Axes>"
      ]
     },
     "metadata": {},
     "output_type": "display_data"
    },
    {
     "data": {
      "image/png": "[encoded data removed]",
      "text/plain": [
       "<Figure size 800x200 with 1 Axes>"
      ]
     },
     "metadata": {},
     "output_type": "display_data"
    },
    {
     "data": {
      "image/png": "[encoded data removed]",
      "text/plain": [
       "<Figure size 800x200 with 1 Axes>"
      ]
     },
     "metadata": {},
     "output_type": "display_data"
    }
   ],
   "source": [
    "posiciones = posiciones_iniciales\n",
    "for m in respuesta:\n",
    "    dibujar_torres(posiciones, titulo = None)\n",
    "    posiciones = movimiento(posiciones_iniciales = posiciones, movimiento = m)\n",
    "dibujar_torres(posiciones, titulo = None)"
   ]
  },
  {
   "cell_type": "markdown",
   "metadata": {},
   "source": [
    "### 1.2. Caso base con función.\n",
    "Cree una función que le ayude a encontrar la lista de movimientos para solucionar el problema con la menor cantidad de movimientos posible. Esta función debe servir para generalizar la solución para cualquier $N$ entero positivo. \n",
    "\n",
    "> Hint: Se recomienda usar recursividad"
   ]
  },
  {
   "cell_type": "code",
   "execution_count": null,
   "metadata": {},
   "outputs": [],
   "source": [
    "def sol_torres(n, inicio, final):\n",
    "\n",
    "    if inicio=='A' and final=='C':\n",
    "        otro = 'B'\n",
    "    elif inicio=='B':\n",
    "        inicio_num=2\n",
    "    elif inicio =='C':\n",
    "        inicio_num=3\n",
    "\n",
    "\n",
    "    pos_iniciales = posiciones_iniciales = {\n",
    "    \"A\": list(range(n, 0, -1)),\n",
    "    \"B\": [],\n",
    "    \"C\": []\n",
    "\n",
    "    if n==1:\n",
    "    movimiento(inicio,final, 1)\n",
    "\n",
    "    else:\n",
    "    \n",
    "\n",
    "\n",
    "}\n",
    "    \n",
    "\n",
    "\n"
   ]
  },
  {
   "cell_type": "code",
   "execution_count": 8,
   "metadata": {},
   "outputs": [
    {
     "name": "stdout",
     "output_type": "stream",
     "text": [
      "[8, 7, 6, 5, 4, 3, 2, 1]\n"
     ]
    }
   ],
   "source": [
    "\n",
    "\n"
   ]
  },
  {
   "cell_type": "markdown",
   "metadata": {},
   "source": [
    "## Punto 2. Pandas"
   ]
  },
  {
   "cell_type": "markdown",
   "metadata": {},
   "source": [
    "En este punto va a explorar diferentes bases de datos con Pandas."
   ]
  },
  {
   "cell_type": "markdown",
   "metadata": {},
   "source": [
    "1. Importe el archivo `player_data.csv` y visualice las primeras 5 filas."
   ]
  },
  {
   "cell_type": "code",
   "execution_count": 1,
   "metadata": {},
   "outputs": [],
   "source": [
    "import pandas as pd\n",
    "import os"
   ]
  },
  {
   "cell_type": "code",
   "execution_count": 32,
   "metadata": {},
   "outputs": [
    {
     "name": "stderr",
     "output_type": "stream",
     "text": [
      "C:\\Users\\Natalia\\AppData\\Local\\Temp\\ipykernel_21784\\247127290.py:2: ParserWarning: Falling back to the 'python' engine because the 'c' engine does not support sep=None with delim_whitespace=False; you can avoid this warning by specifying engine='python'.\n",
      "  player_data = pd.read_csv('Datos/player_data.csv', sep=None)\n"
     ]
    },
    {
     "data": {
      "text/html": [
       "<div>\n",
       "<style scoped>\n",
       "    .dataframe tbody tr th:only-of-type {\n",
       "        vertical-align: middle;\n",
       "    }\n",
       "\n",
       "    .dataframe tbody tr th {\n",
       "        vertical-align: top;\n",
       "    }\n",
       "\n",
       "    .dataframe thead th {\n",
       "        text-align: right;\n",
       "    }\n",
       "</style>\n",
       "<table border=\"1\" class=\"dataframe\">\n",
       "  <thead>\n",
       "    <tr style=\"text-align: right;\">\n",
       "      <th></th>\n",
       "      <th>id</th>\n",
       "      <th>player_api_id</th>\n",
       "      <th>player_name</th>\n",
       "      <th>player_fifa_api_id</th>\n",
       "      <th>birthday</th>\n",
       "      <th>height</th>\n",
       "      <th>weight</th>\n",
       "    </tr>\n",
       "  </thead>\n",
       "  <tbody>\n",
       "    <tr>\n",
       "      <th>0</th>\n",
       "      <td>1</td>\n",
       "      <td>505942</td>\n",
       "      <td>Aaron Appindangoye</td>\n",
       "      <td>218353</td>\n",
       "      <td>1992-02-29 00:00:00</td>\n",
       "      <td>182.88</td>\n",
       "      <td>187</td>\n",
       "    </tr>\n",
       "    <tr>\n",
       "      <th>1</th>\n",
       "      <td>2</td>\n",
       "      <td>155782</td>\n",
       "      <td>Aaron Cresswell</td>\n",
       "      <td>189615</td>\n",
       "      <td>1989-12-15 00:00:00</td>\n",
       "      <td>170.18</td>\n",
       "      <td>146</td>\n",
       "    </tr>\n",
       "    <tr>\n",
       "      <th>2</th>\n",
       "      <td>3</td>\n",
       "      <td>162549</td>\n",
       "      <td>Aaron Doran</td>\n",
       "      <td>186170</td>\n",
       "      <td>1991-05-13 00:00:00</td>\n",
       "      <td>170.18</td>\n",
       "      <td>163</td>\n",
       "    </tr>\n",
       "    <tr>\n",
       "      <th>3</th>\n",
       "      <td>4</td>\n",
       "      <td>30572</td>\n",
       "      <td>Aaron Galindo</td>\n",
       "      <td>140161</td>\n",
       "      <td>1982-05-08 00:00:00</td>\n",
       "      <td>182.88</td>\n",
       "      <td>198</td>\n",
       "    </tr>\n",
       "    <tr>\n",
       "      <th>4</th>\n",
       "      <td>5</td>\n",
       "      <td>23780</td>\n",
       "      <td>Aaron Hughes</td>\n",
       "      <td>17725</td>\n",
       "      <td>1979-11-08 00:00:00</td>\n",
       "      <td>182.88</td>\n",
       "      <td>154</td>\n",
       "    </tr>\n",
       "  </tbody>\n",
       "</table>\n",
       "</div>"
      ],
      "text/plain": [
       "   id  player_api_id         player_name  player_fifa_api_id  \\\n",
       "0   1         505942  Aaron Appindangoye              218353   \n",
       "1   2         155782     Aaron Cresswell              189615   \n",
       "2   3         162549         Aaron Doran              186170   \n",
       "3   4          30572       Aaron Galindo              140161   \n",
       "4   5          23780        Aaron Hughes               17725   \n",
       "\n",
       "              birthday  height  weight  \n",
       "0  1992-02-29 00:00:00  182.88     187  \n",
       "1  1989-12-15 00:00:00  170.18     146  \n",
       "2  1991-05-13 00:00:00  170.18     163  \n",
       "3  1982-05-08 00:00:00  182.88     198  \n",
       "4  1979-11-08 00:00:00  182.88     154  "
      ]
     },
     "execution_count": 32,
     "metadata": {},
     "output_type": "execute_result"
    }
   ],
   "source": [
    "# Importar datos\n",
    "player_data = pd.read_csv('Datos/player_data.csv', sep=None)\n",
    "player_data.head(5)"
   ]
  },
  {
   "cell_type": "markdown",
   "metadata": {},
   "source": [
    "2. Calcule el número de jugadores con una altura (`height`) entre 180 y 190 inclusivos."
   ]
  },
  {
   "cell_type": "code",
   "execution_count": 5,
   "metadata": {},
   "outputs": [
    {
     "data": {
      "text/plain": [
       "124"
      ]
     },
     "execution_count": 5,
     "metadata": {},
     "output_type": "execute_result"
    }
   ],
   "source": [
    "\n",
    "player_data[(player_data['height'] >= 180) & (player_data['id'] <= 190)].shape[0]"
   ]
  },
  {
   "cell_type": "markdown",
   "metadata": {},
   "source": [
    "3. Calcule el número de jugadores que nacieron en el año 1980."
   ]
  },
  {
   "cell_type": "code",
   "execution_count": 11,
   "metadata": {},
   "outputs": [
    {
     "data": {
      "text/plain": [
       "dtype('O')"
      ]
     },
     "execution_count": 11,
     "metadata": {},
     "output_type": "execute_result"
    }
   ],
   "source": [
    "player_data['birthday'].dtypes"
   ]
  },
  {
   "cell_type": "code",
   "execution_count": 12,
   "metadata": {},
   "outputs": [
    {
     "data": {
      "text/plain": [
       "434"
      ]
     },
     "execution_count": 12,
     "metadata": {},
     "output_type": "execute_result"
    }
   ],
   "source": [
    "# Convetimos la columna 'birthday' en fecha\n",
    "player_data['birthday'] = pd.to_datetime(player_data['birthday'])\n",
    "\n",
    "# Calculo del numero de jugadores que nacieron en 1980\n",
    "player_data[player_data['birthday'].dt.year==1980].shape[0]"
   ]
  },
  {
   "cell_type": "markdown",
   "metadata": {},
   "source": [
    "4. Muestra el top 10 de los jugadores con mayor peso (`weight`) en orden descendente. En caso de que tenga más de un jugador con el mismo peso, ordenelos en orden alfabético por el nombre."
   ]
  },
  {
   "cell_type": "code",
   "execution_count": 13,
   "metadata": {},
   "outputs": [
    {
     "data": {
      "text/html": [
       "<div>\n",
       "<style scoped>\n",
       "    .dataframe tbody tr th:only-of-type {\n",
       "        vertical-align: middle;\n",
       "    }\n",
       "\n",
       "    .dataframe tbody tr th {\n",
       "        vertical-align: top;\n",
       "    }\n",
       "\n",
       "    .dataframe thead th {\n",
       "        text-align: right;\n",
       "    }\n",
       "</style>\n",
       "<table border=\"1\" class=\"dataframe\">\n",
       "  <thead>\n",
       "    <tr style=\"text-align: right;\">\n",
       "      <th></th>\n",
       "      <th>player_name</th>\n",
       "      <th>weight</th>\n",
       "    </tr>\n",
       "  </thead>\n",
       "  <tbody>\n",
       "    <tr>\n",
       "      <th>0</th>\n",
       "      <td>Kristof van Hout</td>\n",
       "      <td>243</td>\n",
       "    </tr>\n",
       "    <tr>\n",
       "      <th>1</th>\n",
       "      <td>Tim Wiese</td>\n",
       "      <td>243</td>\n",
       "    </tr>\n",
       "    <tr>\n",
       "      <th>2</th>\n",
       "      <td>Jeroen Verhoeven</td>\n",
       "      <td>227</td>\n",
       "    </tr>\n",
       "    <tr>\n",
       "      <th>3</th>\n",
       "      <td>Ishmael Miller</td>\n",
       "      <td>225</td>\n",
       "    </tr>\n",
       "    <tr>\n",
       "      <th>4</th>\n",
       "      <td>Cassio</td>\n",
       "      <td>220</td>\n",
       "    </tr>\n",
       "    <tr>\n",
       "      <th>5</th>\n",
       "      <td>Christopher Samba</td>\n",
       "      <td>220</td>\n",
       "    </tr>\n",
       "    <tr>\n",
       "      <th>6</th>\n",
       "      <td>Lars Unnerstall</td>\n",
       "      <td>220</td>\n",
       "    </tr>\n",
       "    <tr>\n",
       "      <th>7</th>\n",
       "      <td>Marcus Hahnemann</td>\n",
       "      <td>220</td>\n",
       "    </tr>\n",
       "    <tr>\n",
       "      <th>8</th>\n",
       "      <td>Abdoulaye Faye</td>\n",
       "      <td>218</td>\n",
       "    </tr>\n",
       "    <tr>\n",
       "      <th>9</th>\n",
       "      <td>Enoch Showunmi</td>\n",
       "      <td>218</td>\n",
       "    </tr>\n",
       "  </tbody>\n",
       "</table>\n",
       "</div>"
      ],
      "text/plain": [
       "         player_name  weight\n",
       "0   Kristof van Hout     243\n",
       "1          Tim Wiese     243\n",
       "2   Jeroen Verhoeven     227\n",
       "3     Ishmael Miller     225\n",
       "4             Cassio     220\n",
       "5  Christopher Samba     220\n",
       "6    Lars Unnerstall     220\n",
       "7   Marcus Hahnemann     220\n",
       "8     Abdoulaye Faye     218\n",
       "9     Enoch Showunmi     218"
      ]
     },
     "execution_count": 13,
     "metadata": {},
     "output_type": "execute_result"
    }
   ],
   "source": [
    "player_data[['player_name', 'weight']].sort_values(by=['weight','player_name'], ascending=[False, True]).head(10).reset_index(drop=True)"
   ]
  },
  {
   "cell_type": "markdown",
   "metadata": {},
   "source": [
    "5. Cree una lista de `tuplas` que contenga el número de jugadores que nacen cada año desde el año 1980 hasta 1990.\n",
    "\n",
    "La estructura debe verse de la siguiente forma \n",
    "```python\n",
    "[(1980, 123), (1981, 140) ..., (1990, 83)]\n",
    "```\n",
    "\n",
    "En este ejemplo con números inventados significaría que hay 123 jugadores nacidos en 1980, 140 en 1981, etc."
   ]
  },
  {
   "cell_type": "code",
   "execution_count": 19,
   "metadata": {},
   "outputs": [],
   "source": [
    "player_data['anho']= player_data['birthday'].dt.year"
   ]
  },
  {
   "cell_type": "code",
   "execution_count": 15,
   "metadata": {},
   "outputs": [
    {
     "data": {
      "text/plain": [
       "[(1980, 434),\n",
       " (1981, 475),\n",
       " (1982, 487),\n",
       " (1983, 541),\n",
       " (1984, 607),\n",
       " (1985, 593),\n",
       " (1986, 710),\n",
       " (1987, 722),\n",
       " (1988, 802),\n",
       " (1989, 723),\n",
       " (1990, 696)]"
      ]
     },
     "execution_count": 15,
     "metadata": {},
     "output_type": "execute_result"
    }
   ],
   "source": [
    "lista_resultado = []\n",
    "\n",
    "for i in range(1980, 1991):\n",
    "\n",
    "    tupla = (i,player_data[player_data['birthday'].dt.year==i].shape[0])\n",
    "\n",
    "    lista_resultado.append(tupla)\n",
    "\n",
    "lista_resultado"
   ]
  },
  {
   "cell_type": "markdown",
   "metadata": {},
   "source": [
    "6. Calcula la media y la desviación estándar del peso (`weight`) y la talla (`height`) de los jugadores llamados Adriano."
   ]
  },
  {
   "cell_type": "code",
   "execution_count": 25,
   "metadata": {},
   "outputs": [
    {
     "data": {
      "text/plain": [
       "weight    171.909091\n",
       "height    182.187273\n",
       "dtype: float64"
      ]
     },
     "execution_count": 25,
     "metadata": {},
     "output_type": "execute_result"
    }
   ],
   "source": [
    "player_data.loc[player_data['player_name'].str.contains('Adriano'), ['weight', 'height']].mean()"
   ]
  },
  {
   "cell_type": "code",
   "execution_count": 26,
   "metadata": {},
   "outputs": [
    {
     "data": {
      "text/plain": [
       "weight    12.070249\n",
       "height     5.091532\n",
       "dtype: float64"
      ]
     },
     "execution_count": 26,
     "metadata": {},
     "output_type": "execute_result"
    }
   ],
   "source": [
    "player_data.loc[player_data['player_name'].str.contains('Adriano'), ['weight', 'height']].std()"
   ]
  },
  {
   "cell_type": "markdown",
   "metadata": {},
   "source": [
    "https://pandas.pydata.org/docs/reference/api/pandas.Series.str.contains.html"
   ]
  },
  {
   "cell_type": "markdown",
   "metadata": {},
   "source": [
    "7. ¿Cuántos jugadores nacieron en cada día de la semana? No se le olvide poner el nombre del día. ¿Cuál es el día con menos nacimientos?"
   ]
  },
  {
   "cell_type": "code",
   "execution_count": 27,
   "metadata": {},
   "outputs": [],
   "source": [
    "player_data['dia semana']= player_data['birthday'].dt.day_name()\n"
   ]
  },
  {
   "cell_type": "code",
   "execution_count": 28,
   "metadata": {},
   "outputs": [
    {
     "data": {
      "text/html": [
       "<div>\n",
       "<style scoped>\n",
       "    .dataframe tbody tr th:only-of-type {\n",
       "        vertical-align: middle;\n",
       "    }\n",
       "\n",
       "    .dataframe tbody tr th {\n",
       "        vertical-align: top;\n",
       "    }\n",
       "\n",
       "    .dataframe thead th {\n",
       "        text-align: right;\n",
       "    }\n",
       "</style>\n",
       "<table border=\"1\" class=\"dataframe\">\n",
       "  <thead>\n",
       "    <tr style=\"text-align: right;\">\n",
       "      <th></th>\n",
       "      <th>dia semana</th>\n",
       "      <th>Numero nacimientos</th>\n",
       "    </tr>\n",
       "  </thead>\n",
       "  <tbody>\n",
       "    <tr>\n",
       "      <th>0</th>\n",
       "      <td>Friday</td>\n",
       "      <td>1685</td>\n",
       "    </tr>\n",
       "    <tr>\n",
       "      <th>1</th>\n",
       "      <td>Monday</td>\n",
       "      <td>1643</td>\n",
       "    </tr>\n",
       "    <tr>\n",
       "      <th>2</th>\n",
       "      <td>Saturday</td>\n",
       "      <td>1463</td>\n",
       "    </tr>\n",
       "    <tr>\n",
       "      <th>3</th>\n",
       "      <td>Sunday</td>\n",
       "      <td>1362</td>\n",
       "    </tr>\n",
       "    <tr>\n",
       "      <th>4</th>\n",
       "      <td>Thursday</td>\n",
       "      <td>1648</td>\n",
       "    </tr>\n",
       "    <tr>\n",
       "      <th>5</th>\n",
       "      <td>Tuesday</td>\n",
       "      <td>1652</td>\n",
       "    </tr>\n",
       "    <tr>\n",
       "      <th>6</th>\n",
       "      <td>Wednesday</td>\n",
       "      <td>1607</td>\n",
       "    </tr>\n",
       "  </tbody>\n",
       "</table>\n",
       "</div>"
      ],
      "text/plain": [
       "  dia semana  Numero nacimientos\n",
       "0     Friday                1685\n",
       "1     Monday                1643\n",
       "2   Saturday                1463\n",
       "3     Sunday                1362\n",
       "4   Thursday                1648\n",
       "5    Tuesday                1652\n",
       "6  Wednesday                1607"
      ]
     },
     "execution_count": 28,
     "metadata": {},
     "output_type": "execute_result"
    }
   ],
   "source": [
    "dias_nacimientos = player_data.groupby('dia semana').size().reset_index(name='Numero nacimientos')\n",
    "dias_nacimientos "
   ]
  },
  {
   "cell_type": "code",
   "execution_count": 29,
   "metadata": {},
   "outputs": [
    {
     "data": {
      "text/html": [
       "<div>\n",
       "<style scoped>\n",
       "    .dataframe tbody tr th:only-of-type {\n",
       "        vertical-align: middle;\n",
       "    }\n",
       "\n",
       "    .dataframe tbody tr th {\n",
       "        vertical-align: top;\n",
       "    }\n",
       "\n",
       "    .dataframe thead th {\n",
       "        text-align: right;\n",
       "    }\n",
       "</style>\n",
       "<table border=\"1\" class=\"dataframe\">\n",
       "  <thead>\n",
       "    <tr style=\"text-align: right;\">\n",
       "      <th></th>\n",
       "      <th>dia semana</th>\n",
       "      <th>Numero nacimientos</th>\n",
       "    </tr>\n",
       "  </thead>\n",
       "  <tbody>\n",
       "    <tr>\n",
       "      <th>3</th>\n",
       "      <td>Sunday</td>\n",
       "      <td>1362</td>\n",
       "    </tr>\n",
       "  </tbody>\n",
       "</table>\n",
       "</div>"
      ],
      "text/plain": [
       "  dia semana  Numero nacimientos\n",
       "3     Sunday                1362"
      ]
     },
     "execution_count": 29,
     "metadata": {},
     "output_type": "execute_result"
    }
   ],
   "source": [
    "min_dias=dias_nacimientos['Numero nacimientos'].min()\n",
    "dias_nacimientos[dias_nacimientos['Numero nacimientos']==min_dias] "
   ]
  },
  {
   "cell_type": "markdown",
   "metadata": {},
   "source": [
    "8. Importe la base `league_data.csv` `match_data.csv` y utilícelas para encontrar la liga que jugó más partidos."
   ]
  },
  {
   "cell_type": "code",
   "execution_count": 38,
   "metadata": {},
   "outputs": [],
   "source": [
    "league_data = pd.read_csv('Datos/league_data.csv', sep=None, engine='python')\n",
    "match_data = pd.read_csv('Datos/match_data.csv', sep=None, engine='python')"
   ]
  },
  {
   "cell_type": "code",
   "execution_count": 39,
   "metadata": {},
   "outputs": [],
   "source": [
    "league_data=league_data.rename(columns={'id':'league_id', 'name':'league_name'})"
   ]
  },
  {
   "cell_type": "code",
   "execution_count": 43,
   "metadata": {},
   "outputs": [
    {
     "data": {
      "text/plain": [
       "(25979, 117)"
      ]
     },
     "execution_count": 43,
     "metadata": {},
     "output_type": "execute_result"
    }
   ],
   "source": [
    "match_unido = match_data.merge(league_data, on='league_id', how='left')\n"
   ]
  },
  {
   "cell_type": "code",
   "execution_count": 45,
   "metadata": {},
   "outputs": [
    {
     "data": {
      "text/html": [
       "<div>\n",
       "<style scoped>\n",
       "    .dataframe tbody tr th:only-of-type {\n",
       "        vertical-align: middle;\n",
       "    }\n",
       "\n",
       "    .dataframe tbody tr th {\n",
       "        vertical-align: top;\n",
       "    }\n",
       "\n",
       "    .dataframe thead th {\n",
       "        text-align: right;\n",
       "    }\n",
       "</style>\n",
       "<table border=\"1\" class=\"dataframe\">\n",
       "  <thead>\n",
       "    <tr style=\"text-align: right;\">\n",
       "      <th></th>\n",
       "      <th>league_name</th>\n",
       "      <th>Numero de partidos</th>\n",
       "    </tr>\n",
       "  </thead>\n",
       "  <tbody>\n",
       "    <tr>\n",
       "      <th>0</th>\n",
       "      <td>Belgium Jupiler League</td>\n",
       "      <td>1728</td>\n",
       "    </tr>\n",
       "    <tr>\n",
       "      <th>1</th>\n",
       "      <td>England Premier League</td>\n",
       "      <td>3040</td>\n",
       "    </tr>\n",
       "    <tr>\n",
       "      <th>2</th>\n",
       "      <td>France Ligue 1</td>\n",
       "      <td>3040</td>\n",
       "    </tr>\n",
       "    <tr>\n",
       "      <th>3</th>\n",
       "      <td>Germany 1. Bundesliga</td>\n",
       "      <td>2448</td>\n",
       "    </tr>\n",
       "    <tr>\n",
       "      <th>4</th>\n",
       "      <td>Italy Serie A</td>\n",
       "      <td>3017</td>\n",
       "    </tr>\n",
       "    <tr>\n",
       "      <th>5</th>\n",
       "      <td>Netherlands Eredivisie</td>\n",
       "      <td>2448</td>\n",
       "    </tr>\n",
       "    <tr>\n",
       "      <th>6</th>\n",
       "      <td>Poland Ekstraklasa</td>\n",
       "      <td>1920</td>\n",
       "    </tr>\n",
       "    <tr>\n",
       "      <th>7</th>\n",
       "      <td>Portugal Liga ZON Sagres</td>\n",
       "      <td>2052</td>\n",
       "    </tr>\n",
       "    <tr>\n",
       "      <th>8</th>\n",
       "      <td>Scotland Premier League</td>\n",
       "      <td>1824</td>\n",
       "    </tr>\n",
       "    <tr>\n",
       "      <th>9</th>\n",
       "      <td>Spain LIGA BBVA</td>\n",
       "      <td>3040</td>\n",
       "    </tr>\n",
       "    <tr>\n",
       "      <th>10</th>\n",
       "      <td>Switzerland Super League</td>\n",
       "      <td>1422</td>\n",
       "    </tr>\n",
       "  </tbody>\n",
       "</table>\n",
       "</div>"
      ],
      "text/plain": [
       "                 league_name  Numero de partidos\n",
       "0     Belgium Jupiler League                1728\n",
       "1     England Premier League                3040\n",
       "2             France Ligue 1                3040\n",
       "3      Germany 1. Bundesliga                2448\n",
       "4              Italy Serie A                3017\n",
       "5     Netherlands Eredivisie                2448\n",
       "6         Poland Ekstraklasa                1920\n",
       "7   Portugal Liga ZON Sagres                2052\n",
       "8    Scotland Premier League                1824\n",
       "9            Spain LIGA BBVA                3040\n",
       "10  Switzerland Super League                1422"
      ]
     },
     "execution_count": 45,
     "metadata": {},
     "output_type": "execute_result"
    }
   ],
   "source": [
    "liga_partidos = match_unido.groupby('league_name').size().reset_index(name='Numero de partidos')\n",
    "liga_partidos"
   ]
  },
  {
   "cell_type": "code",
   "execution_count": 140,
   "metadata": {},
   "outputs": [
    {
     "data": {
      "text/html": [
       "<div>\n",
       "<style scoped>\n",
       "    .dataframe tbody tr th:only-of-type {\n",
       "        vertical-align: middle;\n",
       "    }\n",
       "\n",
       "    .dataframe tbody tr th {\n",
       "        vertical-align: top;\n",
       "    }\n",
       "\n",
       "    .dataframe thead th {\n",
       "        text-align: right;\n",
       "    }\n",
       "</style>\n",
       "<table border=\"1\" class=\"dataframe\">\n",
       "  <thead>\n",
       "    <tr style=\"text-align: right;\">\n",
       "      <th></th>\n",
       "      <th>league_name</th>\n",
       "      <th>Numero de partidos</th>\n",
       "    </tr>\n",
       "  </thead>\n",
       "  <tbody>\n",
       "    <tr>\n",
       "      <th>1</th>\n",
       "      <td>England Premier League</td>\n",
       "      <td>3040</td>\n",
       "    </tr>\n",
       "    <tr>\n",
       "      <th>2</th>\n",
       "      <td>France Ligue 1</td>\n",
       "      <td>3040</td>\n",
       "    </tr>\n",
       "    <tr>\n",
       "      <th>9</th>\n",
       "      <td>Spain LIGA BBVA</td>\n",
       "      <td>3040</td>\n",
       "    </tr>\n",
       "  </tbody>\n",
       "</table>\n",
       "</div>"
      ],
      "text/plain": [
       "              league_name  Numero de partidos\n",
       "1  England Premier League                3040\n",
       "2          France Ligue 1                3040\n",
       "9         Spain LIGA BBVA                3040"
      ]
     },
     "execution_count": 140,
     "metadata": {},
     "output_type": "execute_result"
    }
   ],
   "source": [
    "max_partidos=liga_partidos['Numero de partidos'].max()\n",
    "liga_partidos[liga_partidos['Numero de partidos']==max_partidos] "
   ]
  },
  {
   "cell_type": "markdown",
   "metadata": {},
   "source": [
    "9. Encuentre el jugador que más partidos ha jugado para los datos que tenemos\n",
    "\n",
    "> Hint: Busque las columnas que tengan los `ids` de los jugadores que estuvieron en el partido. En caso de que esta columna tenga muchos NAs, ignore esas celdas y trabaje con el restante."
   ]
  },
  {
   "cell_type": "code",
   "execution_count": 180,
   "metadata": {},
   "outputs": [
    {
     "name": "stdout",
     "output_type": "stream",
     "text": [
      " player  num_matches\n",
      "31293.0          300\n"
     ]
    }
   ],
   "source": [
    "#IDs de los jugadores que estuvieron en los partidos\n",
    "variables= ['home_player_1', 'home_player_2', 'home_player_3', 'home_player_4', 'home_player_5', 'home_player_6', 'home_player_7',\n",
    "             'home_player_8', 'home_player_9', 'home_player_10', 'home_player_11', 'away_player_1', 'away_player_2', 'away_player_3',\n",
    "               'away_player_4', 'away_player_5', 'away_player_6', 'away_player_7', 'away_player_8', 'away_player_9', 'away_player_10', \n",
    "               'away_player_11']\n",
    "\n",
    "# Creamos un DataFrame vacío para almacenar los resultados\n",
    "player_matches = pd.DataFrame()\n",
    "\n",
    "# Loop para contar los partidos en los que participó cada jugador\n",
    "for variable in variables:\n",
    "    player_match_count = match_data.groupby(variable, dropna=True)['match_api_id'].nunique().reset_index()\n",
    "    player_match_count.columns = ['player', 'num_matches']\n",
    "\n",
    "# Concatenar los resultados a player_matches\n",
    "    player_matches = pd.concat([player_matches, player_match_count])\n",
    "\n",
    "#Volvemos a agrupar por jugador dado que los jugadores no siempre ocupan el mismo lugar\n",
    "# (ej. un home player en un partido puede ser away player en otro, o un jugador puede ocupar diferentes posiciones (1-11) en diferentes partidos)\n",
    "    player_matches = player_matches.groupby('player').sum().reset_index()\n",
    "\n",
    "#Identificamos el jugador que jugó más partidos\n",
    "player_most_matches=player_matches.sort_values(by=['num_matches'], ascending=[False]).head(1) \n",
    "print(player_most_matches.to_string(index=False))\n"
   ]
  },
  {
   "cell_type": "markdown",
   "metadata": {},
   "source": [
    "10. Importe `player_attributes.csv` y calcule la correlación entre los atributos de los jugadores utilizando el método [dataframe.corr()](https://pandas.pydata.org/docs/reference/api/pandas.DataFrame.corr.html) de pandas. Encuentre las 5 correlaciones más altas y las 5 más bajas.\n",
    "\n",
    "Recuerde tener en cuenta solo variables relevantes para este análisis, i.e. numéricas y continuas."
   ]
  },
  {
   "cell_type": "code",
   "execution_count": 114,
   "metadata": {},
   "outputs": [],
   "source": [
    "#Importar datos\n",
    "player_attributes = pd.read_csv('Datos/player_attributes.csv', sep=None, engine='python')\n"
   ]
  },
  {
   "cell_type": "code",
   "execution_count": 181,
   "metadata": {},
   "outputs": [
    {
     "name": "stderr",
     "output_type": "stream",
     "text": [
      "C:\\Users\\Natalia\\AppData\\Local\\Temp\\ipykernel_21784\\3207042502.py:7: FutureWarning: The default value of numeric_only in DataFrame.corr is deprecated. In a future version, it will default to False. Select only valid columns or specify the value of numeric_only to silence this warning.\n",
      "  correlacion_atributos=player_attributes_filtrada.corr()\n"
     ]
    }
   ],
   "source": [
    "import numpy as np\n",
    "\n",
    "#Mantenemos solo las columnas que contienen atributos de los jugadores\n",
    "player_attributes_filtrada=player_attributes.drop(columns=['id', 'player_fifa_api_id', 'player_api_id', 'date'])\n",
    "\n",
    "#Encontramos las correlaciones\n",
    "correlacion_atributos=player_attributes_filtrada.corr()\n",
    "\n",
    "#Convertimos las correlaciones a valor absoluto para hallar las más altas (más correlacionadas) y las más bajas (menos correlacionadas)\n",
    "correlacion_atributos=correlacion_atributos.abs()\n",
    "\n",
    "#Reemplazamos als autocorrelaciones por missings para que no interfieran al hallar las correlaciones máximas\n",
    "correlacion_atributos.replace(1, np.nan, inplace=True)\n"
   ]
  },
  {
   "cell_type": "code",
   "execution_count": 183,
   "metadata": {},
   "outputs": [
    {
     "data": {
      "text/html": [
       "<div>\n",
       "<style scoped>\n",
       "    .dataframe tbody tr th:only-of-type {\n",
       "        vertical-align: middle;\n",
       "    }\n",
       "\n",
       "    .dataframe tbody tr th {\n",
       "        vertical-align: top;\n",
       "    }\n",
       "\n",
       "    .dataframe thead th {\n",
       "        text-align: right;\n",
       "    }\n",
       "</style>\n",
       "<table border=\"1\" class=\"dataframe\">\n",
       "  <thead>\n",
       "    <tr style=\"text-align: right;\">\n",
       "      <th></th>\n",
       "      <th>Index</th>\n",
       "      <th>Value</th>\n",
       "    </tr>\n",
       "  </thead>\n",
       "  <tbody>\n",
       "    <tr>\n",
       "      <th>gk_reflexes</th>\n",
       "      <td>gk_positioning</td>\n",
       "      <td>0.966711</td>\n",
       "    </tr>\n",
       "    <tr>\n",
       "      <th>gk_handling</th>\n",
       "      <td>gk_reflexes</td>\n",
       "      <td>0.966326</td>\n",
       "    </tr>\n",
       "    <tr>\n",
       "      <th>sliding_tackle</th>\n",
       "      <td>standing_tackle</td>\n",
       "      <td>0.953104</td>\n",
       "    </tr>\n",
       "    <tr>\n",
       "      <th>marking</th>\n",
       "      <td>standing_tackle</td>\n",
       "      <td>0.950134</td>\n",
       "    </tr>\n",
       "    <tr>\n",
       "      <th>gk_diving</th>\n",
       "      <td>gk_reflexes</td>\n",
       "      <td>0.935209</td>\n",
       "    </tr>\n",
       "  </tbody>\n",
       "</table>\n",
       "</div>"
      ],
      "text/plain": [
       "                          Index     Value\n",
       "gk_reflexes      gk_positioning  0.966711\n",
       "gk_handling         gk_reflexes  0.966326\n",
       "sliding_tackle  standing_tackle  0.953104\n",
       "marking         standing_tackle  0.950134\n",
       "gk_diving           gk_reflexes  0.935209"
      ]
     },
     "execution_count": 183,
     "metadata": {},
     "output_type": "execute_result"
    }
   ],
   "source": [
    "\n",
    "#índices de máxima correlación\n",
    "index = correlacion_atributos.idxmax()\n",
    "\n",
    "#Valores de máxima correlación\n",
    "value = correlacion_atributos.max()  \n",
    "\n",
    "# Combinar valor e índice en una base de datos para visualizar\n",
    "correlaciones_maximas = pd.DataFrame({'Index': index, 'Value': value})\n",
    "\n",
    "#Ordenar de mayor a menor\n",
    "correlaciones_maximas=correlaciones_maximas.sort_values(by='Value', ascending=False)\n",
    "\n",
    "#Borrar duplicados\n",
    "correlaciones_maximas=correlaciones_maximas.drop_duplicates(subset='Value')\n",
    "\n",
    "#5 correlaciones más altas \n",
    "# (Entendemos correlaciones más altas como las mayores correlaciones en valor absoluto, es decir, los atributos que están más correlacionados entre sí)\n",
    "top_5_correlaciones=correlaciones_maximas.head(5)\n",
    "\n",
    "top_5_correlaciones\n",
    "\n"
   ]
  },
  {
   "cell_type": "code",
   "execution_count": 182,
   "metadata": {},
   "outputs": [
    {
     "data": {
      "text/html": [
       "<div>\n",
       "<style scoped>\n",
       "    .dataframe tbody tr th:only-of-type {\n",
       "        vertical-align: middle;\n",
       "    }\n",
       "\n",
       "    .dataframe tbody tr th {\n",
       "        vertical-align: top;\n",
       "    }\n",
       "\n",
       "    .dataframe thead th {\n",
       "        text-align: right;\n",
       "    }\n",
       "</style>\n",
       "<table border=\"1\" class=\"dataframe\">\n",
       "  <thead>\n",
       "    <tr style=\"text-align: right;\">\n",
       "      <th></th>\n",
       "      <th>Index</th>\n",
       "      <th>Value</th>\n",
       "    </tr>\n",
       "  </thead>\n",
       "  <tbody>\n",
       "    <tr>\n",
       "      <th>sliding_tackle</th>\n",
       "      <td>acceleration</td>\n",
       "      <td>0.001548</td>\n",
       "    </tr>\n",
       "    <tr>\n",
       "      <th>long_shots</th>\n",
       "      <td>strength</td>\n",
       "      <td>0.002097</td>\n",
       "    </tr>\n",
       "    <tr>\n",
       "      <th>potential</th>\n",
       "      <td>gk_positioning</td>\n",
       "      <td>0.003406</td>\n",
       "    </tr>\n",
       "    <tr>\n",
       "      <th>gk_reflexes</th>\n",
       "      <td>potential</td>\n",
       "      <td>0.003962</td>\n",
       "    </tr>\n",
       "    <tr>\n",
       "      <th>marking</th>\n",
       "      <td>dribbling</td>\n",
       "      <td>0.004128</td>\n",
       "    </tr>\n",
       "  </tbody>\n",
       "</table>\n",
       "</div>"
      ],
      "text/plain": [
       "                         Index     Value\n",
       "sliding_tackle    acceleration  0.001548\n",
       "long_shots            strength  0.002097\n",
       "potential       gk_positioning  0.003406\n",
       "gk_reflexes          potential  0.003962\n",
       "marking              dribbling  0.004128"
      ]
     },
     "execution_count": 182,
     "metadata": {},
     "output_type": "execute_result"
    }
   ],
   "source": [
    "#índices de máxima correlación\n",
    "index = correlacion_atributos.idxmin()\n",
    "\n",
    "#Valores de máxima correlación\n",
    "value = correlacion_atributos.min()  \n",
    "\n",
    "# Combinar valor e índice en una base de datos para visualizar\n",
    "correlaciones_minimas = pd.DataFrame({'Index': index, 'Value': value})\n",
    "\n",
    "#Ordenar de menor a mayor\n",
    "correlaciones_minimas=correlaciones_minimas.sort_values(by='Value', ascending=True)\n",
    "\n",
    "#Borrar duplicados\n",
    "correlaciones_minimas=correlaciones_minimas.drop_duplicates(subset='Value')\n",
    "\n",
    "#5 correlaciones más bajas \n",
    "# (Entendemos correlaciones más bajas como las menores correlaciones en valor absoluto, es decir, los atributos que están menos correlacionados entre sí)\n",
    "bottom_5_correlaciones=correlaciones_minimas.head(5)\n",
    "\n",
    "bottom_5_correlaciones\n"
   ]
  }
 ],
 "metadata": {
  "kernelspec": {
   "display_name": "base",
   "language": "python",
   "name": "python3"
  },
  "language_info": {
   "codemirror_mode": {
    "name": "ipython",
    "version": 3
   },
   "file_extension": ".py",
   "mimetype": "text/x-python",
   "name": "python",
   "nbconvert_exporter": "python",
   "pygments_lexer": "ipython3",
   "version": "3.10.9"
  }
 },
 "nbformat": 4,
 "nbformat_minor": 2
}
